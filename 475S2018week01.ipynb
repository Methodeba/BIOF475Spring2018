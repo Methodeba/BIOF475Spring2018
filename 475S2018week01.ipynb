{
 "cells": [
  {
   "cell_type": "markdown",
   "metadata": {
    "nbpresent": {
     "id": "044383d5-2f7a-4dff-af66-2815219445b0"
    }
   },
   "source": [
    "# HOUSEKEEPING\n",
    "### - Joke\n",
    "### - How to pronounce \n",
    "### - Break half way "
   ]
  },
  {
   "cell_type": "markdown",
   "metadata": {
    "nbpresent": {
     "id": "54dde636-c895-4d5f-b8b6-bda3c7fb9015"
    }
   },
   "source": [
    "# AGENDA\n",
    "### - About the class: syllabus & weekly homeworks & semester projects\n",
    "### - About me\n",
    "### - About you - team introductions\n",
    "### - Homework"
   ]
  },
  {
   "cell_type": "markdown",
   "metadata": {
    "nbpresent": {
     "id": "f2ac5df8-e614-4289-b949-e1395df5e885"
    }
   },
   "source": [
    "# ABOUT THE CLASS/SYLLABUS\n",
    "### - Story of the BioPython student who wrote his own - precisely why we need this overview course. \n",
    "### - All the code has been written - lesson from the Python course. \n",
    "### - Big Data is an ugly word (Ben)\n",
    "### - Office hours, pre-post discussion\n",
    "### - About Projects: pick your level, landscape projects"
   ]
  },
  {
   "cell_type": "markdown",
   "metadata": {
    "nbpresent": {
     "id": "ec95e70c-cc00-4f9b-8f03-9a2161f4f4e1"
    }
   },
   "source": [
    "# ABOUT ME\n",
    "### - Favorite topic - talking donkey\n",
    "### - Why am I here \n",
    "### - Advantages of classroom: direct questions\n",
    "### - Convincing you that wearing all the hats is not hard\n",
    "### - We are ahead of the curve\n",
    "### - What's my favorite thing in the world? Second favorite? Third?"
   ]
  },
  {
   "cell_type": "markdown",
   "metadata": {
    "nbpresent": {
     "id": "15d94269-a655-491f-b989-28dde7a37269"
    }
   },
   "source": [
    "# ABOUT YOU\n",
    "### - Name\n",
    "### - Institute/lab\n",
    "### - What do you do\n",
    "### - Why are you here\n",
    "### - What are the strengths/weaknesses you want to round?"
   ]
  },
  {
   "cell_type": "markdown",
   "metadata": {
    "nbpresent": {
     "id": "b83a9b53-24db-4ce6-805f-982cde142c38"
    }
   },
   "source": [
    "# HOMEWORK\n",
    "### - Create a GitHub account and send username"
   ]
  },
  {
   "cell_type": "markdown",
   "metadata": {
    "collapsed": true
   },
   "source": [
    "# THE END"
   ]
  }
 ],
 "metadata": {
  "anaconda-cloud": {},
  "kernelspec": {
   "display_name": "Python [Root]",
   "language": "python",
   "name": "Python [Root]"
  },
  "language_info": {
   "codemirror_mode": {
    "name": "ipython",
    "version": 3
   },
   "file_extension": ".py",
   "mimetype": "text/x-python",
   "name": "python",
   "nbconvert_exporter": "python",
   "pygments_lexer": "ipython3",
   "version": "3.5.2"
  },
  "nbpresent": {
   "slides": {
    "59dcdd65-5cbc-417a-8a3d-28c131ef4df6": {
     "id": "59dcdd65-5cbc-417a-8a3d-28c131ef4df6",
     "prev": "f1d457d0-9ac0-469a-a5f0-f7463efc580d",
     "regions": {
      "037fdd99-339a-468c-874f-4162a28990de": {
       "attrs": {
        "height": 0.8,
        "width": 0.8,
        "x": 0.1,
        "y": 0.1
       },
       "content": {
        "cell": "15d94269-a655-491f-b989-28dde7a37269",
        "part": "whole"
       },
       "id": "037fdd99-339a-468c-874f-4162a28990de"
      }
     }
    },
    "5ae3efb9-3cf7-44a4-838c-f7c29e8afa77": {
     "id": "5ae3efb9-3cf7-44a4-838c-f7c29e8afa77",
     "prev": null,
     "regions": {
      "a77dd495-7ca8-4a86-81a3-9535a431ef49": {
       "attrs": {
        "height": 0.8,
        "width": 0.8,
        "x": 0.1,
        "y": 0.1
       },
       "content": {
        "cell": "044383d5-2f7a-4dff-af66-2815219445b0",
        "part": "whole"
       },
       "id": "a77dd495-7ca8-4a86-81a3-9535a431ef49"
      }
     }
    },
    "5e6345a7-3b2b-429d-a3c2-5860b55aa9be": {
     "id": "5e6345a7-3b2b-429d-a3c2-5860b55aa9be",
     "prev": "5ae3efb9-3cf7-44a4-838c-f7c29e8afa77",
     "regions": {
      "5d40971b-fa04-4b38-a4c3-4fbe3ce1d92a": {
       "attrs": {
        "height": 0.8,
        "width": 0.8,
        "x": 0.1,
        "y": 0.1
       },
       "content": {
        "cell": "54dde636-c895-4d5f-b8b6-bda3c7fb9015",
        "part": "whole"
       },
       "id": "5d40971b-fa04-4b38-a4c3-4fbe3ce1d92a"
      }
     }
    },
    "7430a4f5-b368-4065-9df2-ed2ee9b2a028": {
     "id": "7430a4f5-b368-4065-9df2-ed2ee9b2a028",
     "prev": "854edcc8-d56c-4bff-9852-4614dd1284b1",
     "regions": {
      "90439096-7f19-4be2-b839-7aed5b4de2f5": {
       "attrs": {
        "height": 0.8,
        "width": 0.8,
        "x": 0.1,
        "y": 0.1
       },
       "content": {
        "cell": "58d3551f-98b1-4595-b201-3804731e68f6",
        "part": "whole"
       },
       "id": "90439096-7f19-4be2-b839-7aed5b4de2f5"
      }
     }
    },
    "854edcc8-d56c-4bff-9852-4614dd1284b1": {
     "id": "854edcc8-d56c-4bff-9852-4614dd1284b1",
     "prev": "59dcdd65-5cbc-417a-8a3d-28c131ef4df6",
     "regions": {
      "67f8c3d8-19b0-4506-8524-b2b2150bbe4b": {
       "attrs": {
        "height": 0.8,
        "width": 0.8,
        "x": 0.1,
        "y": 0.1
       },
       "content": {
        "cell": "b83a9b53-24db-4ce6-805f-982cde142c38",
        "part": "whole"
       },
       "id": "67f8c3d8-19b0-4506-8524-b2b2150bbe4b"
      }
     }
    },
    "c076b6bd-a08a-44d1-b129-11a1b5c5773f": {
     "id": "c076b6bd-a08a-44d1-b129-11a1b5c5773f",
     "prev": "5e6345a7-3b2b-429d-a3c2-5860b55aa9be",
     "regions": {
      "93ea60ad-4b08-4b63-8064-ee7cff789061": {
       "attrs": {
        "height": 0.8,
        "width": 0.8,
        "x": 0.1,
        "y": 0.1
       },
       "content": {
        "cell": "f2ac5df8-e614-4289-b949-e1395df5e885",
        "part": "whole"
       },
       "id": "93ea60ad-4b08-4b63-8064-ee7cff789061"
      }
     }
    },
    "f1d457d0-9ac0-469a-a5f0-f7463efc580d": {
     "id": "f1d457d0-9ac0-469a-a5f0-f7463efc580d",
     "prev": "c076b6bd-a08a-44d1-b129-11a1b5c5773f",
     "regions": {
      "0cf8e9e9-afdf-4a15-868e-065db2beceb4": {
       "attrs": {
        "height": 0.8,
        "width": 0.8,
        "x": 0.1,
        "y": 0.1
       },
       "content": {
        "cell": "ec95e70c-cc00-4f9b-8f03-9a2161f4f4e1",
        "part": "whole"
       },
       "id": "0cf8e9e9-afdf-4a15-868e-065db2beceb4"
      }
     }
    }
   },
   "themes": {}
  }
 },
 "nbformat": 4,
 "nbformat_minor": 1
}
